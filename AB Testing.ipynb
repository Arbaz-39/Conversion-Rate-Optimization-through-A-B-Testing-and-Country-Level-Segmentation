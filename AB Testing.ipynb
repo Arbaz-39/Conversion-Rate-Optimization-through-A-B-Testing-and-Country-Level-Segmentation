{
 "cells": [
  {
   "cell_type": "markdown",
   "id": "82df7d53-9618-44cf-8f73-ebf16df466c1",
   "metadata": {},
   "source": [
    "### Problem Statement"
   ]
  },
  {
   "cell_type": "markdown",
   "id": "e3f68312-2da4-4038-9c68-94a890305f04",
   "metadata": {},
   "source": [
    "A company has launched a new landing page with the expectation that it will improve\n",
    "user conversion rates compared to the existing page. However, deploying a new design\n",
    "globally requires time, cost, and potential risk. To make an informed decision, \n",
    "the company wants to test whether the new page truly outperforms the old one in\n",
    "driving conversions, both overall and across different countries."
   ]
  },
  {
   "cell_type": "markdown",
   "id": "3cd019e4-fcba-47e7-8191-9817ede0816f",
   "metadata": {},
   "source": [
    "### Objective"
   ]
  },
  {
   "cell_type": "markdown",
   "id": "fed5f9b9-4e80-4626-84fa-d3a487ef9248",
   "metadata": {},
   "source": [
    "The objective of this project is to evaluate whether introducing a new landing page leads \n",
    "to a higher user conversion rate compared to the existing page. Using A/B testing \n",
    "methods—including hypothesis testing, two-proportion z-test, bootstrap confidence intervals,\n",
    "and country-level segmentation—the goal is to determine if the new design provides a statistically\n",
    "significant improvement in conversions and to assess whether the effect varies across geographic regions."
   ]
  },
  {
   "cell_type": "markdown",
   "id": "762028f6-cd7d-4870-b9a2-ae1413ac97f0",
   "metadata": {},
   "source": [
    "### Importing important libraries"
   ]
  },
  {
   "cell_type": "code",
   "execution_count": 1,
   "id": "f37f36e2-6c5b-4ab5-a8fd-b58b28940a80",
   "metadata": {},
   "outputs": [],
   "source": [
    "import numpy as np\n",
    "import pandas as pd\n",
    "import seaborn as sns\n",
    "import matplotlib.pyplot as plt\n",
    "%matplotlib inline"
   ]
  },
  {
   "cell_type": "markdown",
   "id": "657eaa4b-b6a2-480b-a851-9d24e6e615de",
   "metadata": {},
   "source": [
    "### Loading file"
   ]
  },
  {
   "cell_type": "code",
   "execution_count": 2,
   "id": "94c01acb-200b-4f17-867b-5872e921e802",
   "metadata": {},
   "outputs": [],
   "source": [
    "df= pd.read_csv(\"C:/Users/Mohammad23.Alam/OneDrive - Reliance Corporate IT Park Limited/Desktop/Projects/AB Testing/ab_test.csv\")"
   ]
  },
  {
   "cell_type": "code",
   "execution_count": 3,
   "id": "28638def-82e9-473d-8647-8cbece69d124",
   "metadata": {},
   "outputs": [],
   "source": [
    "df_countries= pd.read_csv(\"C:/Users/Mohammad23.Alam/OneDrive - Reliance Corporate IT Park Limited/Desktop/Projects/AB Testing/countries_ab.csv\")"
   ]
  },
  {
   "cell_type": "code",
   "execution_count": 4,
   "id": "f3ac52df-a6a3-4d3e-8ad6-c4cc25651c5e",
   "metadata": {},
   "outputs": [
    {
     "data": {
      "text/html": [
       "<div>\n",
       "<style scoped>\n",
       "    .dataframe tbody tr th:only-of-type {\n",
       "        vertical-align: middle;\n",
       "    }\n",
       "\n",
       "    .dataframe tbody tr th {\n",
       "        vertical-align: top;\n",
       "    }\n",
       "\n",
       "    .dataframe thead th {\n",
       "        text-align: right;\n",
       "    }\n",
       "</style>\n",
       "<table border=\"1\" class=\"dataframe\">\n",
       "  <thead>\n",
       "    <tr style=\"text-align: right;\">\n",
       "      <th></th>\n",
       "      <th>id</th>\n",
       "      <th>time</th>\n",
       "      <th>con_treat</th>\n",
       "      <th>page</th>\n",
       "      <th>converted</th>\n",
       "    </tr>\n",
       "  </thead>\n",
       "  <tbody>\n",
       "    <tr>\n",
       "      <th>0</th>\n",
       "      <td>851104</td>\n",
       "      <td>11:48.6</td>\n",
       "      <td>control</td>\n",
       "      <td>old_page</td>\n",
       "      <td>0</td>\n",
       "    </tr>\n",
       "    <tr>\n",
       "      <th>1</th>\n",
       "      <td>804228</td>\n",
       "      <td>01:45.2</td>\n",
       "      <td>control</td>\n",
       "      <td>old_page</td>\n",
       "      <td>0</td>\n",
       "    </tr>\n",
       "    <tr>\n",
       "      <th>2</th>\n",
       "      <td>661590</td>\n",
       "      <td>55:06.2</td>\n",
       "      <td>treatment</td>\n",
       "      <td>new_page</td>\n",
       "      <td>0</td>\n",
       "    </tr>\n",
       "    <tr>\n",
       "      <th>3</th>\n",
       "      <td>853541</td>\n",
       "      <td>28:03.1</td>\n",
       "      <td>treatment</td>\n",
       "      <td>new_page</td>\n",
       "      <td>0</td>\n",
       "    </tr>\n",
       "    <tr>\n",
       "      <th>4</th>\n",
       "      <td>864975</td>\n",
       "      <td>52:26.2</td>\n",
       "      <td>control</td>\n",
       "      <td>old_page</td>\n",
       "      <td>1</td>\n",
       "    </tr>\n",
       "  </tbody>\n",
       "</table>\n",
       "</div>"
      ],
      "text/plain": [
       "       id     time  con_treat      page  converted\n",
       "0  851104  11:48.6    control  old_page          0\n",
       "1  804228  01:45.2    control  old_page          0\n",
       "2  661590  55:06.2  treatment  new_page          0\n",
       "3  853541  28:03.1  treatment  new_page          0\n",
       "4  864975  52:26.2    control  old_page          1"
      ]
     },
     "execution_count": 4,
     "metadata": {},
     "output_type": "execute_result"
    }
   ],
   "source": [
    "df.head()"
   ]
  },
  {
   "cell_type": "markdown",
   "id": "68c59432-fb71-4ed7-810a-ee27e86e81cd",
   "metadata": {},
   "source": [
    "### Data Cleaning and preprocessing"
   ]
  },
  {
   "cell_type": "code",
   "execution_count": 5,
   "id": "4b79477c-3ade-496e-a214-67bf18204180",
   "metadata": {},
   "outputs": [],
   "source": [
    "# Renaming the column name\n",
    "df.columns= [\"user_id\", \"timestamp\", \"group\", \"landing_page\", \"converted\"]"
   ]
  },
  {
   "cell_type": "code",
   "execution_count": 6,
   "id": "16243ca0-2edb-4f47-a555-c64b40d4558e",
   "metadata": {},
   "outputs": [
    {
     "data": {
      "text/html": [
       "<div>\n",
       "<style scoped>\n",
       "    .dataframe tbody tr th:only-of-type {\n",
       "        vertical-align: middle;\n",
       "    }\n",
       "\n",
       "    .dataframe tbody tr th {\n",
       "        vertical-align: top;\n",
       "    }\n",
       "\n",
       "    .dataframe thead th {\n",
       "        text-align: right;\n",
       "    }\n",
       "</style>\n",
       "<table border=\"1\" class=\"dataframe\">\n",
       "  <thead>\n",
       "    <tr style=\"text-align: right;\">\n",
       "      <th></th>\n",
       "      <th>user_id</th>\n",
       "      <th>timestamp</th>\n",
       "      <th>group</th>\n",
       "      <th>landing_page</th>\n",
       "      <th>converted</th>\n",
       "    </tr>\n",
       "  </thead>\n",
       "  <tbody>\n",
       "    <tr>\n",
       "      <th>0</th>\n",
       "      <td>851104</td>\n",
       "      <td>11:48.6</td>\n",
       "      <td>control</td>\n",
       "      <td>old_page</td>\n",
       "      <td>0</td>\n",
       "    </tr>\n",
       "    <tr>\n",
       "      <th>1</th>\n",
       "      <td>804228</td>\n",
       "      <td>01:45.2</td>\n",
       "      <td>control</td>\n",
       "      <td>old_page</td>\n",
       "      <td>0</td>\n",
       "    </tr>\n",
       "    <tr>\n",
       "      <th>2</th>\n",
       "      <td>661590</td>\n",
       "      <td>55:06.2</td>\n",
       "      <td>treatment</td>\n",
       "      <td>new_page</td>\n",
       "      <td>0</td>\n",
       "    </tr>\n",
       "    <tr>\n",
       "      <th>3</th>\n",
       "      <td>853541</td>\n",
       "      <td>28:03.1</td>\n",
       "      <td>treatment</td>\n",
       "      <td>new_page</td>\n",
       "      <td>0</td>\n",
       "    </tr>\n",
       "    <tr>\n",
       "      <th>4</th>\n",
       "      <td>864975</td>\n",
       "      <td>52:26.2</td>\n",
       "      <td>control</td>\n",
       "      <td>old_page</td>\n",
       "      <td>1</td>\n",
       "    </tr>\n",
       "  </tbody>\n",
       "</table>\n",
       "</div>"
      ],
      "text/plain": [
       "   user_id timestamp      group landing_page  converted\n",
       "0   851104   11:48.6    control     old_page          0\n",
       "1   804228   01:45.2    control     old_page          0\n",
       "2   661590   55:06.2  treatment     new_page          0\n",
       "3   853541   28:03.1  treatment     new_page          0\n",
       "4   864975   52:26.2    control     old_page          1"
      ]
     },
     "execution_count": 6,
     "metadata": {},
     "output_type": "execute_result"
    }
   ],
   "source": [
    "df.head()"
   ]
  },
  {
   "cell_type": "code",
   "execution_count": 7,
   "id": "405cc9b3-6a1d-494a-8028-6199a2f3e9fd",
   "metadata": {},
   "outputs": [
    {
     "name": "stdout",
     "output_type": "stream",
     "text": [
      "Number of rows:294478\n",
      "Number of unique users: 290584\n"
     ]
    }
   ],
   "source": [
    "print(f'Number of rows:{df.shape[0]}')\n",
    "print(f'Number of unique users: {df.user_id.nunique()}')"
   ]
  },
  {
   "cell_type": "code",
   "execution_count": 8,
   "id": "ff4a960d-21ed-4dd3-826e-00c02a4ce6b1",
   "metadata": {},
   "outputs": [
    {
     "name": "stdout",
     "output_type": "stream",
     "text": [
      "<class 'pandas.core.frame.DataFrame'>\n",
      "RangeIndex: 294478 entries, 0 to 294477\n",
      "Data columns (total 5 columns):\n",
      " #   Column        Non-Null Count   Dtype \n",
      "---  ------        --------------   ----- \n",
      " 0   user_id       294478 non-null  int64 \n",
      " 1   timestamp     294478 non-null  object\n",
      " 2   group         294478 non-null  object\n",
      " 3   landing_page  294478 non-null  object\n",
      " 4   converted     294478 non-null  int64 \n",
      "dtypes: int64(2), object(3)\n",
      "memory usage: 11.2+ MB\n"
     ]
    }
   ],
   "source": [
    "df.info()"
   ]
  },
  {
   "cell_type": "code",
   "execution_count": 17,
   "id": "b13b655b-74e0-4590-9d43-9ce25bacc8bf",
   "metadata": {},
   "outputs": [
    {
     "data": {
      "text/plain": [
       "user_id         0\n",
       "timestamp       0\n",
       "group           0\n",
       "landing_page    0\n",
       "converted       0\n",
       "dtype: int64"
      ]
     },
     "execution_count": 17,
     "metadata": {},
     "output_type": "execute_result"
    }
   ],
   "source": [
    "# Missing values\n",
    "df.isna().sum()"
   ]
  },
  {
   "cell_type": "code",
   "execution_count": 18,
   "id": "ca471851-4bf0-4a13-9821-6214cb30e17d",
   "metadata": {},
   "outputs": [
    {
     "data": {
      "text/plain": [
       "group\n",
       "treatment    147276\n",
       "control      147202\n",
       "Name: count, dtype: int64"
      ]
     },
     "execution_count": 18,
     "metadata": {},
     "output_type": "execute_result"
    }
   ],
   "source": [
    "n_treat = df[\"group\"].value_counts()\n",
    "n_treat"
   ]
  },
  {
   "cell_type": "code",
   "execution_count": 19,
   "id": "589f2cf9-45b5-46c4-a2cf-99a281aba933",
   "metadata": {},
   "outputs": [
    {
     "data": {
      "text/html": [
       "<div>\n",
       "<style scoped>\n",
       "    .dataframe tbody tr th:only-of-type {\n",
       "        vertical-align: middle;\n",
       "    }\n",
       "\n",
       "    .dataframe tbody tr th {\n",
       "        vertical-align: top;\n",
       "    }\n",
       "\n",
       "    .dataframe thead th {\n",
       "        text-align: right;\n",
       "    }\n",
       "</style>\n",
       "<table border=\"1\" class=\"dataframe\">\n",
       "  <thead>\n",
       "    <tr style=\"text-align: right;\">\n",
       "      <th></th>\n",
       "      <th>N treat</th>\n",
       "      <th>N new page</th>\n",
       "      <th>Difference</th>\n",
       "    </tr>\n",
       "  </thead>\n",
       "  <tbody>\n",
       "    <tr>\n",
       "      <th>0</th>\n",
       "      <td>147276</td>\n",
       "      <td>147239</td>\n",
       "      <td>37</td>\n",
       "    </tr>\n",
       "  </tbody>\n",
       "</table>\n",
       "</div>"
      ],
      "text/plain": [
       "   N treat  N new page  Difference\n",
       "0   147276      147239          37"
      ]
     },
     "execution_count": 19,
     "metadata": {},
     "output_type": "execute_result"
    }
   ],
   "source": [
    "# Need to check whether all treatment group assigned to new page or not \n",
    "n_treat = df[\"group\"].value_counts()[\"treatment\"]\n",
    "n_new_page= df[\"landing_page\"].value_counts()[\"new_page\"]\n",
    "difference= n_treat - n_new_page\n",
    "\n",
    "pd.DataFrame(\n",
    "    {\n",
    "        'N treat':[n_treat],\n",
    "        'N new page': [n_new_page],\n",
    "        'Difference' : [difference]\n",
    "    }\n",
    ")"
   ]
  },
  {
   "cell_type": "markdown",
   "id": "ba912340-8c35-46c0-a9fc-3780d4e06306",
   "metadata": {},
   "source": [
    "Clearly we can see there is mismatch in the number of assigned users to treatment group and those landing on new page.\n",
    "So, further exploration required."
   ]
  },
  {
   "cell_type": "code",
   "execution_count": 20,
   "id": "d84b7acf-29ff-48f9-a679-c468c451d3cc",
   "metadata": {},
   "outputs": [
    {
     "data": {
      "text/html": [
       "<div>\n",
       "<style scoped>\n",
       "    .dataframe tbody tr th:only-of-type {\n",
       "        vertical-align: middle;\n",
       "    }\n",
       "\n",
       "    .dataframe tbody tr th {\n",
       "        vertical-align: top;\n",
       "    }\n",
       "\n",
       "    .dataframe thead th {\n",
       "        text-align: right;\n",
       "    }\n",
       "</style>\n",
       "<table border=\"1\" class=\"dataframe\">\n",
       "  <thead>\n",
       "    <tr style=\"text-align: right;\">\n",
       "      <th></th>\n",
       "      <th>user_id</th>\n",
       "      <th>timestamp</th>\n",
       "      <th>group</th>\n",
       "      <th>landing_page</th>\n",
       "      <th>converted</th>\n",
       "    </tr>\n",
       "  </thead>\n",
       "  <tbody>\n",
       "    <tr>\n",
       "      <th>308</th>\n",
       "      <td>857184</td>\n",
       "      <td>34:59.8</td>\n",
       "      <td>treatment</td>\n",
       "      <td>old_page</td>\n",
       "      <td>0</td>\n",
       "    </tr>\n",
       "    <tr>\n",
       "      <th>327</th>\n",
       "      <td>686623</td>\n",
       "      <td>26:40.7</td>\n",
       "      <td>treatment</td>\n",
       "      <td>old_page</td>\n",
       "      <td>0</td>\n",
       "    </tr>\n",
       "    <tr>\n",
       "      <th>357</th>\n",
       "      <td>856078</td>\n",
       "      <td>29:30.4</td>\n",
       "      <td>treatment</td>\n",
       "      <td>old_page</td>\n",
       "      <td>0</td>\n",
       "    </tr>\n",
       "    <tr>\n",
       "      <th>685</th>\n",
       "      <td>666385</td>\n",
       "      <td>11:54.8</td>\n",
       "      <td>treatment</td>\n",
       "      <td>old_page</td>\n",
       "      <td>0</td>\n",
       "    </tr>\n",
       "    <tr>\n",
       "      <th>713</th>\n",
       "      <td>748761</td>\n",
       "      <td>47:44.4</td>\n",
       "      <td>treatment</td>\n",
       "      <td>old_page</td>\n",
       "      <td>0</td>\n",
       "    </tr>\n",
       "    <tr>\n",
       "      <th>...</th>\n",
       "      <td>...</td>\n",
       "      <td>...</td>\n",
       "      <td>...</td>\n",
       "      <td>...</td>\n",
       "      <td>...</td>\n",
       "    </tr>\n",
       "    <tr>\n",
       "      <th>293773</th>\n",
       "      <td>688144</td>\n",
       "      <td>34:50.5</td>\n",
       "      <td>treatment</td>\n",
       "      <td>old_page</td>\n",
       "      <td>1</td>\n",
       "    </tr>\n",
       "    <tr>\n",
       "      <th>293817</th>\n",
       "      <td>876037</td>\n",
       "      <td>15:09.0</td>\n",
       "      <td>treatment</td>\n",
       "      <td>old_page</td>\n",
       "      <td>1</td>\n",
       "    </tr>\n",
       "    <tr>\n",
       "      <th>293917</th>\n",
       "      <td>738357</td>\n",
       "      <td>37:55.7</td>\n",
       "      <td>treatment</td>\n",
       "      <td>old_page</td>\n",
       "      <td>0</td>\n",
       "    </tr>\n",
       "    <tr>\n",
       "      <th>294014</th>\n",
       "      <td>813406</td>\n",
       "      <td>25:33.2</td>\n",
       "      <td>treatment</td>\n",
       "      <td>old_page</td>\n",
       "      <td>0</td>\n",
       "    </tr>\n",
       "    <tr>\n",
       "      <th>294252</th>\n",
       "      <td>892498</td>\n",
       "      <td>11:10.5</td>\n",
       "      <td>treatment</td>\n",
       "      <td>old_page</td>\n",
       "      <td>0</td>\n",
       "    </tr>\n",
       "  </tbody>\n",
       "</table>\n",
       "<p>1965 rows × 5 columns</p>\n",
       "</div>"
      ],
      "text/plain": [
       "        user_id timestamp      group landing_page  converted\n",
       "308      857184   34:59.8  treatment     old_page          0\n",
       "327      686623   26:40.7  treatment     old_page          0\n",
       "357      856078   29:30.4  treatment     old_page          0\n",
       "685      666385   11:54.8  treatment     old_page          0\n",
       "713      748761   47:44.4  treatment     old_page          0\n",
       "...         ...       ...        ...          ...        ...\n",
       "293773   688144   34:50.5  treatment     old_page          1\n",
       "293817   876037   15:09.0  treatment     old_page          1\n",
       "293917   738357   37:55.7  treatment     old_page          0\n",
       "294014   813406   25:33.2  treatment     old_page          0\n",
       "294252   892498   11:10.5  treatment     old_page          0\n",
       "\n",
       "[1965 rows x 5 columns]"
      ]
     },
     "execution_count": 20,
     "metadata": {},
     "output_type": "execute_result"
    }
   ],
   "source": [
    "# Checking only those rows\n",
    "df[(df['group']== \"treatment\") & (df['landing_page']== \"old_page\")]\n"
   ]
  },
  {
   "cell_type": "code",
   "execution_count": 21,
   "id": "cb9824ed-28c9-49b7-889a-840b5f15da66",
   "metadata": {},
   "outputs": [
    {
     "name": "stdout",
     "output_type": "stream",
     "text": [
      "Number of mismatch rows: 3893 rows\n",
      "Percent of mismatch rows: 1.32%\n"
     ]
    }
   ],
   "source": [
    "# Creating a dataframe to identify mismatch\n",
    "\n",
    "df_mismatch = df[\n",
    "    ((df[\"group\"] == \"treatment\") & (df[\"landing_page\"] == \"old_page\")) |\n",
    "    ((df[\"group\"] == \"control\") & (df[\"landing_page\"] == \"new_page\"))\n",
    "]\n",
    "\n",
    "n_mismatch = df_mismatch.shape[0]\n",
    "mismatch_percent = round(n_mismatch / len(df) * 100, 2)\n",
    "\n",
    "print(f'Number of mismatch rows: {n_mismatch} rows')\n",
    "print(f'Percent of mismatch rows: {mismatch_percent}%')\n"
   ]
  },
  {
   "cell_type": "markdown",
   "id": "1a086da5-4974-412b-ac06-c5acaf2afe97",
   "metadata": {},
   "source": [
    "As one can see there are 3893 rows that are mismatch. So, we need to create a new dataframe."
   ]
  },
  {
   "cell_type": "code",
   "execution_count": 22,
   "id": "3bbd9340-71e8-4d63-ae82-95745553036d",
   "metadata": {},
   "outputs": [
    {
     "data": {
      "text/plain": [
       "290585"
      ]
     },
     "execution_count": 22,
     "metadata": {},
     "output_type": "execute_result"
    }
   ],
   "source": [
    "df2= df[\n",
    "       ((df[\"group\"]==\"control\") & (df[\"landing_page\"]==\"old_page\")) |\n",
    "       ((df[\"group\"]==\"treatment\") & (df[\"landing_page\"]==\"new_page\"))\n",
    "]\n",
    "len(df2)"
   ]
  },
  {
   "cell_type": "code",
   "execution_count": 23,
   "id": "d43ca889-bd29-49dc-bec4-ba8372d1bfd7",
   "metadata": {},
   "outputs": [
    {
     "data": {
      "text/html": [
       "<div>\n",
       "<style scoped>\n",
       "    .dataframe tbody tr th:only-of-type {\n",
       "        vertical-align: middle;\n",
       "    }\n",
       "\n",
       "    .dataframe tbody tr th {\n",
       "        vertical-align: top;\n",
       "    }\n",
       "\n",
       "    .dataframe thead th {\n",
       "        text-align: right;\n",
       "    }\n",
       "</style>\n",
       "<table border=\"1\" class=\"dataframe\">\n",
       "  <thead>\n",
       "    <tr style=\"text-align: right;\">\n",
       "      <th></th>\n",
       "      <th>user_id</th>\n",
       "      <th>timestamp</th>\n",
       "      <th>group</th>\n",
       "      <th>landing_page</th>\n",
       "      <th>converted</th>\n",
       "    </tr>\n",
       "  </thead>\n",
       "  <tbody>\n",
       "    <tr>\n",
       "      <th>0</th>\n",
       "      <td>851104</td>\n",
       "      <td>11:48.6</td>\n",
       "      <td>control</td>\n",
       "      <td>old_page</td>\n",
       "      <td>0</td>\n",
       "    </tr>\n",
       "    <tr>\n",
       "      <th>1</th>\n",
       "      <td>804228</td>\n",
       "      <td>01:45.2</td>\n",
       "      <td>control</td>\n",
       "      <td>old_page</td>\n",
       "      <td>0</td>\n",
       "    </tr>\n",
       "    <tr>\n",
       "      <th>2</th>\n",
       "      <td>661590</td>\n",
       "      <td>55:06.2</td>\n",
       "      <td>treatment</td>\n",
       "      <td>new_page</td>\n",
       "      <td>0</td>\n",
       "    </tr>\n",
       "    <tr>\n",
       "      <th>3</th>\n",
       "      <td>853541</td>\n",
       "      <td>28:03.1</td>\n",
       "      <td>treatment</td>\n",
       "      <td>new_page</td>\n",
       "      <td>0</td>\n",
       "    </tr>\n",
       "    <tr>\n",
       "      <th>4</th>\n",
       "      <td>864975</td>\n",
       "      <td>52:26.2</td>\n",
       "      <td>control</td>\n",
       "      <td>old_page</td>\n",
       "      <td>1</td>\n",
       "    </tr>\n",
       "  </tbody>\n",
       "</table>\n",
       "</div>"
      ],
      "text/plain": [
       "   user_id timestamp      group landing_page  converted\n",
       "0   851104   11:48.6    control     old_page          0\n",
       "1   804228   01:45.2    control     old_page          0\n",
       "2   661590   55:06.2  treatment     new_page          0\n",
       "3   853541   28:03.1  treatment     new_page          0\n",
       "4   864975   52:26.2    control     old_page          1"
      ]
     },
     "execution_count": 23,
     "metadata": {},
     "output_type": "execute_result"
    }
   ],
   "source": [
    "df2.head()"
   ]
  },
  {
   "cell_type": "code",
   "execution_count": 24,
   "id": "5aba90dd-1142-4988-9a1a-b45ec84fc41a",
   "metadata": {},
   "outputs": [
    {
     "data": {
      "text/plain": [
       "0"
      ]
     },
     "execution_count": 24,
     "metadata": {},
     "output_type": "execute_result"
    }
   ],
   "source": [
    "### Recheck mismatch\n",
    "df2[(df2[\"group\"]==\"control\") & (df2[\"landing_page\"]==\"new_page\")].shape[0]"
   ]
  },
  {
   "cell_type": "code",
   "execution_count": 25,
   "id": "ae6bfea5-dcab-4109-971a-427de9662cd5",
   "metadata": {},
   "outputs": [
    {
     "data": {
      "text/plain": [
       "290584"
      ]
     },
     "execution_count": 25,
     "metadata": {},
     "output_type": "execute_result"
    }
   ],
   "source": [
    "# Checking any duplicate entries\n",
    "df2.user_id.nunique()"
   ]
  },
  {
   "cell_type": "code",
   "execution_count": 26,
   "id": "6ded6996-276f-49ee-a315-f3ddeef23c78",
   "metadata": {},
   "outputs": [
    {
     "data": {
      "text/plain": [
       "1"
      ]
     },
     "execution_count": 26,
     "metadata": {},
     "output_type": "execute_result"
    }
   ],
   "source": [
    "len(df2)- df2.user_id.nunique()"
   ]
  },
  {
   "cell_type": "code",
   "execution_count": 27,
   "id": "3ea242c0-61ba-480c-9763-1aedda72c728",
   "metadata": {},
   "outputs": [
    {
     "data": {
      "text/html": [
       "<div>\n",
       "<style scoped>\n",
       "    .dataframe tbody tr th:only-of-type {\n",
       "        vertical-align: middle;\n",
       "    }\n",
       "\n",
       "    .dataframe tbody tr th {\n",
       "        vertical-align: top;\n",
       "    }\n",
       "\n",
       "    .dataframe thead th {\n",
       "        text-align: right;\n",
       "    }\n",
       "</style>\n",
       "<table border=\"1\" class=\"dataframe\">\n",
       "  <thead>\n",
       "    <tr style=\"text-align: right;\">\n",
       "      <th></th>\n",
       "      <th>user_id</th>\n",
       "      <th>timestamp</th>\n",
       "      <th>group</th>\n",
       "      <th>landing_page</th>\n",
       "      <th>converted</th>\n",
       "    </tr>\n",
       "  </thead>\n",
       "  <tbody>\n",
       "    <tr>\n",
       "      <th>2893</th>\n",
       "      <td>773192</td>\n",
       "      <td>55:59.6</td>\n",
       "      <td>treatment</td>\n",
       "      <td>new_page</td>\n",
       "      <td>0</td>\n",
       "    </tr>\n",
       "  </tbody>\n",
       "</table>\n",
       "</div>"
      ],
      "text/plain": [
       "      user_id timestamp      group landing_page  converted\n",
       "2893   773192   55:59.6  treatment     new_page          0"
      ]
     },
     "execution_count": 27,
     "metadata": {},
     "output_type": "execute_result"
    }
   ],
   "source": [
    "# Identifying duplicate\n",
    "df2[df2.duplicated(\"user_id\")==True]"
   ]
  },
  {
   "cell_type": "code",
   "execution_count": 28,
   "id": "dea1484a-4730-469d-b833-0815b9b55954",
   "metadata": {},
   "outputs": [],
   "source": [
    "# Dropping the duplicate\n",
    "df2= df2.drop_duplicates(\"user_id\")"
   ]
  },
  {
   "cell_type": "code",
   "execution_count": 29,
   "id": "1982903c-de0b-4a07-b1e4-17c044c53ac7",
   "metadata": {},
   "outputs": [
    {
     "data": {
      "text/plain": [
       "0"
      ]
     },
     "execution_count": 29,
     "metadata": {},
     "output_type": "execute_result"
    }
   ],
   "source": [
    "len(df2)-df2.user_id.nunique()"
   ]
  },
  {
   "cell_type": "markdown",
   "id": "0b5f94a0-900a-48ef-b449-cd750ccd1879",
   "metadata": {},
   "source": [
    "### Probability"
   ]
  },
  {
   "cell_type": "code",
   "execution_count": 30,
   "id": "0541b1cd-c51a-4342-96b1-b2563d76fd2f",
   "metadata": {},
   "outputs": [
    {
     "data": {
      "text/plain": [
       "11.959708724499627"
      ]
     },
     "execution_count": 30,
     "metadata": {},
     "output_type": "execute_result"
    }
   ],
   "source": [
    "df2.converted.mean()*100"
   ]
  },
  {
   "cell_type": "markdown",
   "id": "b78ce20d-2eb6-4b45-9dcd-4e021f48df38",
   "metadata": {},
   "source": [
    "Irrespective of the group the users have been assigned and they land on the landing page,\n",
    "there is ~ 12% probability of getting converted"
   ]
  },
  {
   "cell_type": "code",
   "execution_count": 31,
   "id": "874f2444-296c-4236-94a3-cd30f338e17e",
   "metadata": {},
   "outputs": [
    {
     "name": "stdout",
     "output_type": "stream",
     "text": [
      "group\n",
      "control      12.038630\n",
      "treatment    11.880807\n",
      "Name: converted, dtype: float64\n"
     ]
    }
   ],
   "source": [
    "# Conversion rates in both group\n",
    "conversion_rate= df2.groupby(\"group\")[\"converted\"].mean() * 100\n",
    "print(conversion_rate)"
   ]
  },
  {
   "cell_type": "code",
   "execution_count": 32,
   "id": "57604adf-ddd9-4237-beb3-9ccc0e0dd931",
   "metadata": {},
   "outputs": [
    {
     "data": {
      "text/html": [
       "<div>\n",
       "<style scoped>\n",
       "    .dataframe tbody tr th:only-of-type {\n",
       "        vertical-align: middle;\n",
       "    }\n",
       "\n",
       "    .dataframe tbody tr th {\n",
       "        vertical-align: top;\n",
       "    }\n",
       "\n",
       "    .dataframe thead th {\n",
       "        text-align: right;\n",
       "    }\n",
       "</style>\n",
       "<table border=\"1\" class=\"dataframe\">\n",
       "  <thead>\n",
       "    <tr style=\"text-align: right;\">\n",
       "      <th></th>\n",
       "      <th>proportion</th>\n",
       "    </tr>\n",
       "    <tr>\n",
       "      <th>landing_page</th>\n",
       "      <th></th>\n",
       "    </tr>\n",
       "  </thead>\n",
       "  <tbody>\n",
       "    <tr>\n",
       "      <th>new_page</th>\n",
       "      <td>50.006194</td>\n",
       "    </tr>\n",
       "    <tr>\n",
       "      <th>old_page</th>\n",
       "      <td>49.993806</td>\n",
       "    </tr>\n",
       "  </tbody>\n",
       "</table>\n",
       "</div>"
      ],
      "text/plain": [
       "              proportion\n",
       "landing_page            \n",
       "new_page       50.006194\n",
       "old_page       49.993806"
      ]
     },
     "execution_count": 32,
     "metadata": {},
     "output_type": "execute_result"
    }
   ],
   "source": [
    "pd.DataFrame(df2.landing_page.value_counts(normalize=True) *100)"
   ]
  },
  {
   "cell_type": "markdown",
   "id": "2671c92b-6af6-423a-a04c-638f306ee1f1",
   "metadata": {},
   "source": [
    "Observation:\n",
    "(i). The probability of a user get converted when they are in control group is 12% \n",
    "     whereas for treatment it's about 11.88%\n",
    "(ii). The percentage of user landing on new page is 50% whereas almost 50% is landing\n",
    "     on new page.\n",
    "\n",
    "So, there is no sufficient evidence to conclude.        \n",
    "     "
   ]
  },
  {
   "cell_type": "markdown",
   "id": "d0557e18-b491-49ef-a72e-9c20c80a5e32",
   "metadata": {},
   "source": [
    "### A/B Testing"
   ]
  },
  {
   "cell_type": "markdown",
   "id": "2998abe6-99f2-4151-bcdc-c7662f457ada",
   "metadata": {},
   "source": [
    "In order to perform A/B testing, we have to create sample by resampling with replacement method (Bootstrap method)"
   ]
  },
  {
   "cell_type": "code",
   "execution_count": 33,
   "id": "7ebab045-6819-4c20-9563-c76ff4005127",
   "metadata": {},
   "outputs": [
    {
     "name": "stdout",
     "output_type": "stream",
     "text": [
      "Execution time: 782.81 seconds\n"
     ]
    }
   ],
   "source": [
    "# Since number of iterations is 10000, it will take 10-15 min to execute. So, we need to check execution time\n",
    "import time\n",
    "\n",
    "start = time.time()\n",
    "means_diff = []\n",
    "size = df.shape[0]\n",
    "\n",
    "for _ in range(10000):\n",
    "    sample = df2.sample(size, replace=True)\n",
    "    control_mean = sample[sample[\"group\"] == \"control\"][\"converted\"].mean()\n",
    "    treat_mean = sample[sample[\"group\"] == \"treatment\"][\"converted\"].mean()\n",
    "    means_diff.append(treat_mean - control_mean)\n",
    "    \n",
    "end = time.time()\n",
    "print(f\"Execution time: {end - start:.2f} seconds\")"
   ]
  },
  {
   "cell_type": "code",
   "execution_count": 34,
   "id": "e4032c5f-e522-4a1c-810c-a4ab9da572d4",
   "metadata": {},
   "outputs": [
    {
     "data": {
      "image/png": "[encoded data removed]",
      "text/plain": [
       "<Figure size 800x400 with 1 Axes>"
      ]
     },
     "metadata": {},
     "output_type": "display_data"
    }
   ],
   "source": [
    "# Plotting the sampling distribution \n",
    "plt.figure(figsize = (8,4), dpi = 100)\n",
    "plt.hist(means_diff, bins = 25)\n",
    "plt.show()"
   ]
  },
  {
   "cell_type": "markdown",
   "id": "b7183647-2f8e-47df-9088-2e4476825825",
   "metadata": {},
   "source": [
    "The distribution is centered around slightly negative values (around -0.0015 to -0.002).\n",
    "This means that, on average, the treatment group converts a bit less than the control group."
   ]
  },
  {
   "cell_type": "markdown",
   "id": "16834ccb-ec8f-4071-b1d6-685e830edb1f",
   "metadata": {},
   "source": [
    "No strong evidence that the treatment (new page) outperforms the control (old page).\n",
    "If anything, the treatment is slightly worse (since the center is negative), but the difference\n",
    "is not statistically significant because 0 lies inside the distribution.\n",
    "In practical terms → the new landing page does not appear to improve conversions, so we cannot recommend rolling it out."
   ]
  },
  {
   "cell_type": "code",
   "execution_count": 35,
   "id": "0e09dac6-3cc1-4130-a521-41836390fa2e",
   "metadata": {},
   "outputs": [],
   "source": [
    "# Simulating distribution under the null hypothesis\n",
    "means_diff = np.array(means_diff)\n",
    "null_vals = np.random.normal(0, means_diff.std(), means_diff.size)"
   ]
  },
  {
   "cell_type": "code",
   "execution_count": 36,
   "id": "f1d02fd0-b8c5-4ca2-b10e-dcecf735f5c9",
   "metadata": {},
   "outputs": [
    {
     "data": {
      "image/png": "[encoded data removed]",
      "text/plain": [
       "<Figure size 800x400 with 1 Axes>"
      ]
     },
     "metadata": {},
     "output_type": "display_data"
    }
   ],
   "source": [
    "# Plot the null distribution\n",
    "plt.figure(figsize = (8,4), dpi = 100)\n",
    "plt.hist(null_vals, bins = 25)\n",
    "plt.show()"
   ]
  },
  {
   "cell_type": "code",
   "execution_count": 37,
   "id": "01df18d3-5b42-47ee-b33d-3bffcb9f5cd4",
   "metadata": {},
   "outputs": [
    {
     "data": {
      "image/png": "[encoded data removed]",
      "text/plain": [
       "<Figure size 800x400 with 1 Axes>"
      ]
     },
     "metadata": {},
     "output_type": "display_data"
    }
   ],
   "source": [
    "# Plot observed statistic with the null distibution\n",
    "control_mean = df2[df2[\"group\"] == \"control\"][\"converted\"].mean()\n",
    "treat_mean = df2[df2[\"group\"] == \"treatment\"][\"converted\"].mean()\n",
    "obs_diff = treat_mean - control_mean\n",
    "\n",
    "plt.figure(figsize = (8,4), dpi = 100)\n",
    "plt.hist(null_vals, bins = 25)\n",
    "plt.axvline(obs_diff, c='red')\n",
    "plt.show()"
   ]
  },
  {
   "cell_type": "code",
   "execution_count": 38,
   "id": "03dd7a86-c851-41c6-ad98-fad18afdf11f",
   "metadata": {},
   "outputs": [
    {
     "data": {
      "text/plain": [
       "0.9057"
      ]
     },
     "execution_count": 38,
     "metadata": {},
     "output_type": "execute_result"
    }
   ],
   "source": [
    "# calculating the p value \n",
    "(null_vals > obs_diff).mean()"
   ]
  },
  {
   "cell_type": "markdown",
   "id": "cad7bc23-3459-42f2-a4e9-bd79eb055dc6",
   "metadata": {},
   "source": [
    "A p-value of 0.9098 means:\n",
    "If the null hypothesis (no difference between old and new page) were true, there is a 90.98% \n",
    "chance of observing a difference as extreme (or more extreme) than what you saw.\n",
    "You fail to reject the null hypothesis.\n",
    "The observed difference between treatment (new page) and control (old page) is completely consistent with random chance.\n",
    "In fact, it strongly suggests that the new landing page did not improve conversions (and might even be slightly worse)."
   ]
  },
  {
   "cell_type": "markdown",
   "id": "4b227ee7-55e2-42b2-b3ed-caae650a7b61",
   "metadata": {},
   "source": [
    "### Two Proportion Z-Test"
   ]
  },
  {
   "cell_type": "code",
   "execution_count": 39,
   "id": "94e0c743-966c-4be6-8b61-d4fb8a14bed9",
   "metadata": {},
   "outputs": [
    {
     "name": "stderr",
     "output_type": "stream",
     "text": [
      "\n",
      "[notice] A new release of pip is available: 24.2 -> 25.2\n",
      "[notice] To update, run: python.exe -m pip install --upgrade pip\n"
     ]
    }
   ],
   "source": [
    "!pip install scipy --upgrade --quiet"
   ]
  },
  {
   "cell_type": "code",
   "execution_count": 40,
   "id": "ff38bdd1-2cad-4d78-a585-58662a9bf81f",
   "metadata": {},
   "outputs": [],
   "source": [
    "import numpy as np\n",
    "from scipy.stats import norm"
   ]
  },
  {
   "cell_type": "code",
   "execution_count": 41,
   "id": "dd32bacf-5a94-4035-a092-0d9855f0b344",
   "metadata": {},
   "outputs": [
    {
     "name": "stdout",
     "output_type": "stream",
     "text": [
      "Control Conversion Rate: 0.1204\n",
      "Treatment Conversion Rate: 0.1188\n",
      "Observed Difference: -0.0016\n",
      "Pooled Conversion Rate: 0.1196\n",
      "Standard Error: 0.0012\n",
      "Z-statistic: -1.3109\n",
      "P-value: 0.1899\n"
     ]
    }
   ],
   "source": [
    "# Step 1: Counts and sizes\n",
    "convert_control = df2[df2[\"group\"]==\"control\"][\"converted\"].sum()\n",
    "convert_treat = df2[df2[\"group\"]==\"treatment\"][\"converted\"].sum()\n",
    "\n",
    "n_control = df2[df2[\"group\"]==\"control\"].shape[0]\n",
    "n_treat = df2[df2[\"group\"]==\"treatment\"].shape[0]\n",
    "\n",
    "# Step 2: Conversion rates\n",
    "p_control = convert_control / n_control\n",
    "p_treat = convert_treat / n_treat\n",
    "obs_diff = p_treat - p_control\n",
    "\n",
    "# Step 3: Pooled proportion (pooled rate)\n",
    "p_pool = (convert_control + convert_treat) / (n_control + n_treat)\n",
    "\n",
    "# Step 4: Standard error\n",
    "se = np.sqrt(p_pool * (1 - p_pool) * (1/n_control + 1/n_treat))\n",
    "\n",
    "# Step 5: Z-statistic\n",
    "z_stat = obs_diff / se\n",
    "\n",
    "# Step 6: P-value (two-tailed)\n",
    "p_value = 2 * (1 - norm.cdf(abs(z_stat)))\n",
    "\n",
    "# Print results clearly\n",
    "print(f\"Control Conversion Rate: {p_control:.4f}\")\n",
    "print(f\"Treatment Conversion Rate: {p_treat:.4f}\")\n",
    "print(f\"Observed Difference: {obs_diff:.4f}\")\n",
    "print(f\"Pooled Conversion Rate: {p_pool:.4f}\")\n",
    "print(f\"Standard Error: {se:.4f}\")\n",
    "print(f\"Z-statistic: {z_stat:.4f}\")\n",
    "print(f\"P-value: {p_value:.4f}\")\n"
   ]
  },
  {
   "cell_type": "markdown",
   "id": "e8df1b8d-b590-4472-aa55-ecfef28e3dc0",
   "metadata": {},
   "source": [
    "The new page performed slightly worse (–0.16 pp), but the difference is not statistically significant (p > 0.05).\n",
    "Evidence is insufficient to conclude the new page improves conversion.\n",
    "Rolling out the new page globally is not recommended at this stage.\n",
    "Consider further testing (segmentation by country/device) before making rollout decisions."
   ]
  },
  {
   "cell_type": "markdown",
   "id": "8879fbd2-0a23-4b13-b0ef-9ae951b2e56b",
   "metadata": {},
   "source": [
    "### Bootstrap Confidence Interval"
   ]
  },
  {
   "cell_type": "code",
   "execution_count": 42,
   "id": "4a55d35d-47b5-4f84-b1eb-467203f132b9",
   "metadata": {},
   "outputs": [
    {
     "name": "stdout",
     "output_type": "stream",
     "text": [
      "95% Confidence Interval: [-0.0039, 0.0008]\n"
     ]
    }
   ],
   "source": [
    "ci_low, ci_high = np.percentile(means_diff, [2.5, 97.5])\n",
    "print(f\"95% Confidence Interval: [{ci_low:.4f}, {ci_high:.4f}]\")"
   ]
  },
  {
   "cell_type": "markdown",
   "id": "3bb19fe5-cd86-49c2-804b-948d419bdd15",
   "metadata": {},
   "source": [
    "The true difference in conversion rates (Treatment – Control) is likely between\n",
    "–0.39 percentage points and +0.08 percentage points.\n",
    "Since the interval crosses 0, the effect is not statistically significant.\n",
    "Treatment could be slightly worse (–0.39%) Or slightly better (+0.08%)\n",
    "We cannot be confident about either."
   ]
  },
  {
   "cell_type": "code",
   "execution_count": 46,
   "id": "2c9c39e3-09e3-450a-a9b9-5db6ab88bc02",
   "metadata": {},
   "outputs": [
    {
     "data": {
      "image/png": "[encoded data removed]",
      "text/plain": [
       "<Figure size 800x400 with 1 Axes>"
      ]
     },
     "metadata": {},
     "output_type": "display_data"
    }
   ],
   "source": [
    "# Visualization\n",
    "plt.figure(figsize=(8,4))\n",
    "plt.hist(means_diff, bins=50, edgecolor='black')\n",
    "plt.axvline(ci_low, color='green', linestyle='--', label=f'CI low {ci_low:.4f}')\n",
    "plt.axvline(ci_high, color='green', linestyle='--', label=f'CI high {ci_high:.4f}')\n",
    "plt.axvline(obs_diff, color='red', linestyle='-', label=f'Observed {obs_diff:.4f}')\n",
    "plt.legend()\n",
    "plt.title(\"Bootstrap Distribution with 95% CI\")\n",
    "plt.show()\n"
   ]
  },
  {
   "cell_type": "markdown",
   "id": "f46ed8b1-8188-47ed-a9d7-ddd3f9efa7b6",
   "metadata": {},
   "source": [
    "The new page has no statistically significant effect on conversion. At best, it improves by +0.08%, and at worst,\n",
    "reduces by –0.39%. Since the possible gain is below business relevance, global rollout is not justified."
   ]
  },
  {
   "cell_type": "markdown",
   "id": "68d3bb24-9b8d-453a-81b0-0fdd0e0c00b3",
   "metadata": {},
   "source": [
    "### Geographic Segmentation of A/B Test Results"
   ]
  },
  {
   "cell_type": "code",
   "execution_count": 53,
   "id": "cf84ca1a-f717-4852-a13e-5b569df78b61",
   "metadata": {},
   "outputs": [
    {
     "data": {
      "text/html": [
       "<div>\n",
       "<style scoped>\n",
       "    .dataframe tbody tr th:only-of-type {\n",
       "        vertical-align: middle;\n",
       "    }\n",
       "\n",
       "    .dataframe tbody tr th {\n",
       "        vertical-align: top;\n",
       "    }\n",
       "\n",
       "    .dataframe thead th {\n",
       "        text-align: right;\n",
       "    }\n",
       "</style>\n",
       "<table border=\"1\" class=\"dataframe\">\n",
       "  <thead>\n",
       "    <tr style=\"text-align: right;\">\n",
       "      <th></th>\n",
       "      <th>user_id</th>\n",
       "      <th>timestamp</th>\n",
       "      <th>group</th>\n",
       "      <th>landing_page</th>\n",
       "      <th>converted</th>\n",
       "      <th>country</th>\n",
       "    </tr>\n",
       "  </thead>\n",
       "  <tbody>\n",
       "    <tr>\n",
       "      <th>0</th>\n",
       "      <td>851104</td>\n",
       "      <td>11:48.6</td>\n",
       "      <td>control</td>\n",
       "      <td>old_page</td>\n",
       "      <td>0</td>\n",
       "      <td>US</td>\n",
       "    </tr>\n",
       "    <tr>\n",
       "      <th>1</th>\n",
       "      <td>804228</td>\n",
       "      <td>01:45.2</td>\n",
       "      <td>control</td>\n",
       "      <td>old_page</td>\n",
       "      <td>0</td>\n",
       "      <td>US</td>\n",
       "    </tr>\n",
       "    <tr>\n",
       "      <th>2</th>\n",
       "      <td>661590</td>\n",
       "      <td>55:06.2</td>\n",
       "      <td>treatment</td>\n",
       "      <td>new_page</td>\n",
       "      <td>0</td>\n",
       "      <td>US</td>\n",
       "    </tr>\n",
       "    <tr>\n",
       "      <th>3</th>\n",
       "      <td>853541</td>\n",
       "      <td>28:03.1</td>\n",
       "      <td>treatment</td>\n",
       "      <td>new_page</td>\n",
       "      <td>0</td>\n",
       "      <td>US</td>\n",
       "    </tr>\n",
       "    <tr>\n",
       "      <th>4</th>\n",
       "      <td>864975</td>\n",
       "      <td>52:26.2</td>\n",
       "      <td>control</td>\n",
       "      <td>old_page</td>\n",
       "      <td>1</td>\n",
       "      <td>US</td>\n",
       "    </tr>\n",
       "  </tbody>\n",
       "</table>\n",
       "</div>"
      ],
      "text/plain": [
       "   user_id timestamp      group landing_page  converted country\n",
       "0   851104   11:48.6    control     old_page          0      US\n",
       "1   804228   01:45.2    control     old_page          0      US\n",
       "2   661590   55:06.2  treatment     new_page          0      US\n",
       "3   853541   28:03.1  treatment     new_page          0      US\n",
       "4   864975   52:26.2    control     old_page          1      US"
      ]
     },
     "execution_count": 53,
     "metadata": {},
     "output_type": "execute_result"
    }
   ],
   "source": [
    "# Joining both datasets\n",
    "df_merged = df2.merge(df_countries, left_on=\"user_id\", right_on=\"id\", how=\"left\")\n",
    "df_merged.drop(\"id\", axis=1, inplace=True)\n",
    "df_merged.head()"
   ]
  },
  {
   "cell_type": "code",
   "execution_count": 54,
   "id": "70b69414-9364-4d5e-b26d-ad18eff0a777",
   "metadata": {},
   "outputs": [
    {
     "data": {
      "text/html": [
       "<div>\n",
       "<style scoped>\n",
       "    .dataframe tbody tr th:only-of-type {\n",
       "        vertical-align: middle;\n",
       "    }\n",
       "\n",
       "    .dataframe tbody tr th {\n",
       "        vertical-align: top;\n",
       "    }\n",
       "\n",
       "    .dataframe thead th {\n",
       "        text-align: right;\n",
       "    }\n",
       "</style>\n",
       "<table border=\"1\" class=\"dataframe\">\n",
       "  <thead>\n",
       "    <tr style=\"text-align: right;\">\n",
       "      <th>group</th>\n",
       "      <th>control</th>\n",
       "      <th>treatment</th>\n",
       "    </tr>\n",
       "    <tr>\n",
       "      <th>country</th>\n",
       "      <th></th>\n",
       "      <th></th>\n",
       "    </tr>\n",
       "  </thead>\n",
       "  <tbody>\n",
       "    <tr>\n",
       "      <th>CA</th>\n",
       "      <td>0.118783</td>\n",
       "      <td>0.111902</td>\n",
       "    </tr>\n",
       "    <tr>\n",
       "      <th>UK</th>\n",
       "      <td>0.120022</td>\n",
       "      <td>0.121171</td>\n",
       "    </tr>\n",
       "    <tr>\n",
       "      <th>US</th>\n",
       "      <td>0.120630</td>\n",
       "      <td>0.118466</td>\n",
       "    </tr>\n",
       "  </tbody>\n",
       "</table>\n",
       "</div>"
      ],
      "text/plain": [
       "group     control  treatment\n",
       "country                     \n",
       "CA       0.118783   0.111902\n",
       "UK       0.120022   0.121171\n",
       "US       0.120630   0.118466"
      ]
     },
     "execution_count": 54,
     "metadata": {},
     "output_type": "execute_result"
    }
   ],
   "source": [
    "# Conversion by country and group\n",
    "df_merged.groupby([\"country\", \"group\"])[\"converted\"].mean().unstack()"
   ]
  },
  {
   "cell_type": "code",
   "execution_count": 56,
   "id": "4e252185-2097-4b4b-acf8-a3318d585c31",
   "metadata": {},
   "outputs": [
    {
     "name": "stderr",
     "output_type": "stream",
     "text": [
      "\n",
      "[notice] A new release of pip is available: 24.2 -> 25.2\n",
      "[notice] To update, run: python.exe -m pip install --upgrade pip\n"
     ]
    }
   ],
   "source": [
    "!pip install statsmodels --upgrade --quiet"
   ]
  },
  {
   "cell_type": "code",
   "execution_count": 57,
   "id": "85ff3996-2195-4e52-a769-49b174553a94",
   "metadata": {},
   "outputs": [
    {
     "name": "stdout",
     "output_type": "stream",
     "text": [
      "  country  treat_rate  control_rate      diff      pval\n",
      "0      CA    0.111902      0.118783 -0.006881  0.194666\n",
      "1      UK    0.121171      0.120022  0.001149  0.634865\n",
      "2      US    0.118466      0.120630 -0.002164  0.132274\n"
     ]
    }
   ],
   "source": [
    "# Hypothesis Testing per Country (Mini A/B tests)\n",
    "from statsmodels.stats.proportion import proportions_ztest\n",
    "\n",
    "rows = []\n",
    "for ctry, sub in df_merged.groupby(\"country\"):\n",
    "    if sub[\"group\"].nunique() < 2:  # skip if only one group present\n",
    "        continue\n",
    "    x_treat = sub[sub[\"group\"]==\"treatment\"][\"converted\"].sum()\n",
    "    n_treat = sub[sub[\"group\"]==\"treatment\"][\"converted\"].count()\n",
    "    x_control = sub[sub[\"group\"]==\"control\"][\"converted\"].sum()\n",
    "    n_control = sub[sub[\"group\"]==\"control\"][\"converted\"].count()\n",
    "    \n",
    "    z, pval = proportions_ztest([x_treat, x_control], [n_treat, n_control])\n",
    "    rows.append([ctry, x_treat/n_treat, x_control/n_control, (x_treat/n_treat - x_control/n_control), pval])\n",
    "\n",
    "country_results = pd.DataFrame(rows, columns=[\"country\",\"treat_rate\",\"control_rate\",\"diff\",\"pval\"])\n",
    "print(country_results)\n"
   ]
  },
  {
   "cell_type": "code",
   "execution_count": 67,
   "id": "815f476d-6834-4bee-92d3-b7e98fe76bc6",
   "metadata": {},
   "outputs": [
    {
     "data": {
      "image/png": "[encoded data removed]",
      "text/plain": [
       "<Figure size 1000x500 with 1 Axes>"
      ]
     },
     "metadata": {},
     "output_type": "display_data"
    }
   ],
   "source": [
    "#Visualization\n",
    "plt.figure(figsize=(10,5))\n",
    "sns.barplot(data=df_merged, x=\"country\", y=\"converted\", hue=\"group\", width=0.6, errorbar=None)\n",
    "plt.legend(loc=\"upper right\")\n",
    "plt.title(\"Conversion Rate by Country & Group\")\n",
    "# Move legend outside the plot (right side)\n",
    "plt.legend(bbox_to_anchor=(1.05, 1), loc='upper left')\n",
    "plt.show()\n"
   ]
  },
  {
   "cell_type": "markdown",
   "id": "e2fa00aa-17ce-4e36-b018-125fc16dd48d",
   "metadata": {},
   "source": [
    "In all three countries (US, CA, UK), the treatment (orange) and control (blue) bars are almost the same height.\n",
    "This visually confirms what we saw in hypothesis testing: no major difference in conversion rates.\n",
    "Across all countries, treatment does not significantly outperform control.\n",
    "Any observed differences are small and likely due to random chance."
   ]
  },
  {
   "cell_type": "markdown",
   "id": "c15df527-3618-4a45-b633-018a9b2608df",
   "metadata": {},
   "source": [
    "### Regression with Interaction"
   ]
  },
  {
   "cell_type": "code",
   "execution_count": 68,
   "id": "1d082a7b-cfbd-4bef-9289-7268e4734abb",
   "metadata": {},
   "outputs": [
    {
     "name": "stdout",
     "output_type": "stream",
     "text": [
      "Optimization terminated successfully.\n",
      "         Current function value: 0.366109\n",
      "         Iterations 6\n",
      "                           Logit Regression Results                           \n",
      "==============================================================================\n",
      "Dep. Variable:              converted   No. Observations:               290584\n",
      "Model:                          Logit   Df Residuals:                   290578\n",
      "Method:                           MLE   Df Model:                            5\n",
      "Date:                Sun, 07 Sep 2025   Pseudo R-squ.:               3.482e-05\n",
      "Time:                        14:28:57   Log-Likelihood:            -1.0639e+05\n",
      "converged:                       True   LL-Null:                   -1.0639e+05\n",
      "Covariance Type:            nonrobust   LLR p-value:                    0.1920\n",
      "=================================================================================================\n",
      "                                    coef    std err          z      P>|z|      [0.025      0.975]\n",
      "-------------------------------------------------------------------------------------------------\n",
      "Intercept                        -2.0040      0.036    -55.008      0.000      -2.075      -1.933\n",
      "C(country)[T.UK]                  0.0118      0.040      0.296      0.767      -0.066       0.090\n",
      "C(country)[T.US]                  0.0175      0.038      0.465      0.642      -0.056       0.091\n",
      "is_treatment                     -0.0674      0.052     -1.297      0.195      -0.169       0.034\n",
      "is_treatment:C(country)[T.UK]     0.0783      0.057      1.378      0.168      -0.033       0.190\n",
      "is_treatment:C(country)[T.US]     0.0469      0.054      0.872      0.383      -0.059       0.152\n",
      "=================================================================================================\n"
     ]
    }
   ],
   "source": [
    "import statsmodels.formula.api as smf\n",
    "\n",
    "df_merged[\"is_treatment\"] = (df_merged[\"group\"]==\"treatment\").astype(int)\n",
    "\n",
    "model = smf.logit(\"converted ~ is_treatment * C(country)\", data=df_merged).fit()\n",
    "print(model.summary())\n"
   ]
  },
  {
   "cell_type": "markdown",
   "id": "08664eb8-f4b3-4b65-a9e8-aea42f91b07d",
   "metadata": {},
   "source": [
    "Baseline conversion rate (control group in baseline country) ≈ 11.9%.\n",
    "Treatment has no statistically significant effect on conversion (p>0.05).\n",
    "Country also does not significantly affect conversion.\n",
    "Interaction terms show treatment effect is similar across countries."
   ]
  },
  {
   "cell_type": "markdown",
   "id": "b7dc31a2-3dfc-4400-825d-0a7e11c9e6ba",
   "metadata": {},
   "source": [
    "### Final Conclusion"
   ]
  },
  {
   "cell_type": "markdown",
   "id": "72e31b2b-c1d2-4fc5-98fd-25f863e91aea",
   "metadata": {},
   "source": [
    "The A/B test results show that the new landing page does not provide a statistically significant\n",
    "improvement in conversion rates compared to the existing page.\n",
    "1. Hypothesis testing & two-proportion z-test: P-values were much higher than 0.05, meaning we cannot \n",
    "reject the null hypothesis of “no difference.”\n",
    "2. Bootstrap confidence intervals: The 95% CI for the difference in conversion rates included zero, \n",
    "confirming that the new page may slightly improve or worsen conversions, but not in a meaningful way.\n",
    "3. Country-level analysis: Across the US, UK, and Canada, conversion rates between treatment and control\n",
    "were very close, with no country showing a significant treatment effect."
   ]
  },
  {
   "cell_type": "markdown",
   "id": "f7bf44b3-e90e-496d-9346-186e2e55038b",
   "metadata": {},
   "source": [
    "### Business Recommendation\n",
    "The new page design does not show meaningful improvement in any country. \n",
    "A global rollout is not justified based on the evidence. Focus should be on further testing\n",
    "with new design variations or targeting different user segments."
   ]
  },
  {
   "cell_type": "code",
   "execution_count": null,
   "id": "dd4f89f6-d86d-4f6e-a306-caa25d99ecdf",
   "metadata": {},
   "outputs": [],
   "source": []
  }
 ],
 "metadata": {
  "kernelspec": {
   "display_name": "Python 3 (ipykernel)",
   "language": "python",
   "name": "python3"
  },
  "language_info": {
   "codemirror_mode": {
    "name": "ipython",
    "version": 3
   },
   "file_extension": ".py",
   "mimetype": "text/x-python",
   "name": "python",
   "nbconvert_exporter": "python",
   "pygments_lexer": "ipython3",
   "version": "3.12.2"
  }
 },
 "nbformat": 4,
 "nbformat_minor": 5
}
